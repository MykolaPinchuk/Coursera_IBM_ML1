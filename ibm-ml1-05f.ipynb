{
 "cells": [
  {
   "cell_type": "markdown",
   "id": "06b26e18",
   "metadata": {
    "papermill": {
     "duration": 0.022241,
     "end_time": "2022-02-01T18:29:28.326688",
     "exception": false,
     "start_time": "2022-02-01T18:29:28.304447",
     "status": "completed"
    },
    "run_control": {
     "marked": true
    },
    "tags": []
   },
   "source": [
    "# Machine Learning Foundation\n",
    "\n",
    "## Course 5, Part g: Transfer Learning DEMO"
   ]
  },
  {
   "cell_type": "markdown",
   "id": "a0dc527d",
   "metadata": {
    "papermill": {
     "duration": 0.020576,
     "end_time": "2022-02-01T18:29:28.368329",
     "exception": false,
     "start_time": "2022-02-01T18:29:28.347753",
     "status": "completed"
    },
    "tags": []
   },
   "source": [
    "For this exercise, we will use the well-known MNIST digit data. To illustrate the power and concept of transfer learning, we will train a CNN on just the digits 5,6,7,8,9.  Then we will train just the last layer(s) of the network on the digits 0,1,2,3,4 and see how well the features learned on 5-9 help with classifying 0-4.\n",
    "\n",
    "Adapted from https://github.com/fchollet/keras/blob/master/examples/mnist_transfer_cnn.py"
   ]
  },
  {
   "cell_type": "code",
   "execution_count": 1,
   "id": "1685ee61",
   "metadata": {
    "execution": {
     "iopub.execute_input": "2022-02-01T18:29:28.418860Z",
     "iopub.status.busy": "2022-02-01T18:29:28.418237Z",
     "iopub.status.idle": "2022-02-01T18:29:34.729525Z",
     "shell.execute_reply": "2022-02-01T18:29:34.728636Z",
     "shell.execute_reply.started": "2022-02-01T15:23:28.380656Z"
    },
    "papermill": {
     "duration": 6.340478,
     "end_time": "2022-02-01T18:29:34.729695",
     "exception": false,
     "start_time": "2022-02-01T18:29:28.389217",
     "status": "completed"
    },
    "tags": []
   },
   "outputs": [],
   "source": [
    "import datetime\n",
    "import tensorflow\n",
    "\n",
    "from tensorflow import keras\n",
    "from tensorflow.keras.datasets import mnist\n",
    "from tensorflow.keras.models import Sequential\n",
    "from tensorflow.keras.layers import Dense, Dropout, Activation, Flatten\n",
    "from tensorflow.keras.layers import Conv2D, MaxPooling2D\n",
    "from tensorflow.keras import backend as K"
   ]
  },
  {
   "cell_type": "code",
   "execution_count": 2,
   "id": "a680f5c9",
   "metadata": {
    "execution": {
     "iopub.execute_input": "2022-02-01T18:29:34.777126Z",
     "iopub.status.busy": "2022-02-01T18:29:34.776490Z",
     "iopub.status.idle": "2022-02-01T18:29:34.778141Z",
     "shell.execute_reply": "2022-02-01T18:29:34.778700Z",
     "shell.execute_reply.started": "2022-02-01T15:23:38.554581Z"
    },
    "papermill": {
     "duration": 0.027585,
     "end_time": "2022-02-01T18:29:34.778883",
     "exception": false,
     "start_time": "2022-02-01T18:29:34.751298",
     "status": "completed"
    },
    "tags": []
   },
   "outputs": [],
   "source": [
    "#used to help some of the timing functions\n",
    "now = datetime.datetime.now"
   ]
  },
  {
   "cell_type": "code",
   "execution_count": 3,
   "id": "3f070c6d",
   "metadata": {
    "execution": {
     "iopub.execute_input": "2022-02-01T18:29:34.824278Z",
     "iopub.status.busy": "2022-02-01T18:29:34.823564Z",
     "iopub.status.idle": "2022-02-01T18:29:34.827324Z",
     "shell.execute_reply": "2022-02-01T18:29:34.827830Z",
     "shell.execute_reply.started": "2022-02-01T15:23:39.923278Z"
    },
    "papermill": {
     "duration": 0.028029,
     "end_time": "2022-02-01T18:29:34.827998",
     "exception": false,
     "start_time": "2022-02-01T18:29:34.799969",
     "status": "completed"
    },
    "tags": []
   },
   "outputs": [],
   "source": [
    "# set some parameters\n",
    "batch_size = 128\n",
    "num_classes = 5\n",
    "epochs = 5"
   ]
  },
  {
   "cell_type": "code",
   "execution_count": 4,
   "id": "45f78066",
   "metadata": {
    "execution": {
     "iopub.execute_input": "2022-02-01T18:29:34.873985Z",
     "iopub.status.busy": "2022-02-01T18:29:34.873237Z",
     "iopub.status.idle": "2022-02-01T18:29:34.876676Z",
     "shell.execute_reply": "2022-02-01T18:29:34.877228Z",
     "shell.execute_reply.started": "2022-02-01T15:23:41.989726Z"
    },
    "papermill": {
     "duration": 0.028185,
     "end_time": "2022-02-01T18:29:34.877406",
     "exception": false,
     "start_time": "2022-02-01T18:29:34.849221",
     "status": "completed"
    },
    "tags": []
   },
   "outputs": [],
   "source": [
    "# set some more parameters\n",
    "img_rows, img_cols = 28, 28\n",
    "filters = 32\n",
    "pool_size = 2\n",
    "kernel_size = 3"
   ]
  },
  {
   "cell_type": "code",
   "execution_count": 5,
   "id": "ed543bed",
   "metadata": {
    "execution": {
     "iopub.execute_input": "2022-02-01T18:29:34.923027Z",
     "iopub.status.busy": "2022-02-01T18:29:34.922336Z",
     "iopub.status.idle": "2022-02-01T18:29:34.926703Z",
     "shell.execute_reply": "2022-02-01T18:29:34.927350Z",
     "shell.execute_reply.started": "2022-02-01T15:23:50.092040Z"
    },
    "papermill": {
     "duration": 0.028969,
     "end_time": "2022-02-01T18:29:34.927538",
     "exception": false,
     "start_time": "2022-02-01T18:29:34.898569",
     "status": "completed"
    },
    "tags": []
   },
   "outputs": [],
   "source": [
    "## This just handles some variability in how the input data is loaded\n",
    "\n",
    "if K.image_data_format() == 'channels_first':\n",
    "    input_shape = (1, img_rows, img_cols)\n",
    "else:\n",
    "    input_shape = (img_rows, img_cols, 1)"
   ]
  },
  {
   "cell_type": "code",
   "execution_count": 6,
   "id": "069588ac",
   "metadata": {
    "execution": {
     "iopub.execute_input": "2022-02-01T18:29:34.973367Z",
     "iopub.status.busy": "2022-02-01T18:29:34.972469Z",
     "iopub.status.idle": "2022-02-01T18:29:34.983440Z",
     "shell.execute_reply": "2022-02-01T18:29:34.984065Z",
     "shell.execute_reply.started": "2022-02-01T15:23:53.780607Z"
    },
    "papermill": {
     "duration": 0.035417,
     "end_time": "2022-02-01T18:29:34.984259",
     "exception": false,
     "start_time": "2022-02-01T18:29:34.948842",
     "status": "completed"
    },
    "tags": []
   },
   "outputs": [],
   "source": [
    "## To simplify things, write a function to include all the training steps\n",
    "## As input, function takes a model, training set, test set, and the number of classes\n",
    "## Inside the model object will be the state about which layers we are freezing and which we are training\n",
    "\n",
    "def train_model(model, train, test, num_classes):\n",
    "    x_train = train[0].reshape((train[0].shape[0],) + input_shape)\n",
    "    x_test = test[0].reshape((test[0].shape[0],) + input_shape)\n",
    "    x_train = x_train.astype('float32')\n",
    "    x_test = x_test.astype('float32')\n",
    "    x_train /= 255\n",
    "    x_test /= 255\n",
    "    print('x_train shape:', x_train.shape)\n",
    "    print(x_train.shape[0], 'train samples')\n",
    "    print(x_test.shape[0], 'test samples')\n",
    "\n",
    "    # convert class vectors to binary class matrices\n",
    "    y_train = keras.utils.to_categorical(train[1], num_classes)\n",
    "    y_test = keras.utils.to_categorical(test[1], num_classes)\n",
    "\n",
    "    model.compile(loss='categorical_crossentropy',\n",
    "                  optimizer='adadelta',\n",
    "                  metrics=['accuracy'])\n",
    "\n",
    "    t = now()\n",
    "    model.fit(x_train, y_train,\n",
    "              batch_size=batch_size,\n",
    "              epochs=epochs,\n",
    "              verbose=1,\n",
    "              validation_data=(x_test, y_test))\n",
    "    print('Training time: %s' % (now() - t))\n",
    "\n",
    "    score = model.evaluate(x_test, y_test, verbose=0)\n",
    "    print('Test score:', score[0])\n",
    "    print('Test accuracy:', score[1])"
   ]
  },
  {
   "cell_type": "code",
   "execution_count": 7,
   "id": "45c5dfb4",
   "metadata": {
    "execution": {
     "iopub.execute_input": "2022-02-01T18:29:35.033351Z",
     "iopub.status.busy": "2022-02-01T18:29:35.032611Z",
     "iopub.status.idle": "2022-02-01T18:29:35.739216Z",
     "shell.execute_reply": "2022-02-01T18:29:35.738575Z",
     "shell.execute_reply.started": "2022-02-01T15:24:05.252923Z"
    },
    "papermill": {
     "duration": 0.734101,
     "end_time": "2022-02-01T18:29:35.739375",
     "exception": false,
     "start_time": "2022-02-01T18:29:35.005274",
     "status": "completed"
    },
    "tags": []
   },
   "outputs": [
    {
     "name": "stdout",
     "output_type": "stream",
     "text": [
      "Downloading data from https://storage.googleapis.com/tensorflow/tf-keras-datasets/mnist.npz\n",
      "11493376/11490434 [==============================] - 0s 0us/step\n",
      "11501568/11490434 [==============================] - 0s 0us/step\n"
     ]
    }
   ],
   "source": [
    "# the data, shuffled and split between train and test sets\n",
    "(x_train, y_train), (x_test, y_test) = mnist.load_data()\n",
    "\n",
    "# create two datasets: one with digits below 5 and one with 5 and above\n",
    "x_train_lt5 = x_train[y_train < 5]\n",
    "y_train_lt5 = y_train[y_train < 5]\n",
    "x_test_lt5 = x_test[y_test < 5]\n",
    "y_test_lt5 = y_test[y_test < 5]\n",
    "\n",
    "x_train_gte5 = x_train[y_train >= 5]\n",
    "y_train_gte5 = y_train[y_train >= 5] - 5\n",
    "x_test_gte5 = x_test[y_test >= 5]\n",
    "y_test_gte5 = y_test[y_test >= 5] - 5"
   ]
  },
  {
   "cell_type": "code",
   "execution_count": 8,
   "id": "3a54f720",
   "metadata": {
    "execution": {
     "iopub.execute_input": "2022-02-01T18:29:35.795580Z",
     "iopub.status.busy": "2022-02-01T18:29:35.794859Z",
     "iopub.status.idle": "2022-02-01T18:29:35.797943Z",
     "shell.execute_reply": "2022-02-01T18:29:35.798433Z",
     "shell.execute_reply.started": "2022-02-01T15:25:39.867181Z"
    },
    "papermill": {
     "duration": 0.034593,
     "end_time": "2022-02-01T18:29:35.798599",
     "exception": false,
     "start_time": "2022-02-01T18:29:35.764006",
     "status": "completed"
    },
    "tags": []
   },
   "outputs": [
    {
     "data": {
      "text/plain": [
       "(60000, 28, 28)"
      ]
     },
     "execution_count": 8,
     "metadata": {},
     "output_type": "execute_result"
    }
   ],
   "source": [
    "x_train.shape"
   ]
  },
  {
   "cell_type": "code",
   "execution_count": 9,
   "id": "b1153ceb",
   "metadata": {
    "execution": {
     "iopub.execute_input": "2022-02-01T18:29:35.847928Z",
     "iopub.status.busy": "2022-02-01T18:29:35.847280Z",
     "iopub.status.idle": "2022-02-01T18:29:35.886453Z",
     "shell.execute_reply": "2022-02-01T18:29:35.885741Z",
     "shell.execute_reply.started": "2022-02-01T14:50:54.885733Z"
    },
    "papermill": {
     "duration": 0.064916,
     "end_time": "2022-02-01T18:29:35.886602",
     "exception": false,
     "start_time": "2022-02-01T18:29:35.821686",
     "status": "completed"
    },
    "tags": []
   },
   "outputs": [],
   "source": [
    "# Define the \"feature\" layers.  These are the early layers that we expect will \"transfer\"\n",
    "# to a new problem.  We will freeze these layers during the fine-tuning process\n",
    "\n",
    "feature_layers = [\n",
    "    Conv2D(filters, kernel_size,\n",
    "           padding='valid',\n",
    "           input_shape=input_shape),\n",
    "    Activation('relu'),\n",
    "    Conv2D(filters, kernel_size),\n",
    "    Activation('relu'),\n",
    "    MaxPooling2D(pool_size=pool_size),\n",
    "    Dropout(0.25),\n",
    "    Flatten(),\n",
    "]"
   ]
  },
  {
   "cell_type": "code",
   "execution_count": 10,
   "id": "43e17b69",
   "metadata": {
    "execution": {
     "iopub.execute_input": "2022-02-01T18:29:35.937398Z",
     "iopub.status.busy": "2022-02-01T18:29:35.936352Z",
     "iopub.status.idle": "2022-02-01T18:29:35.943878Z",
     "shell.execute_reply": "2022-02-01T18:29:35.944357Z",
     "shell.execute_reply.started": "2022-02-01T14:50:56.381086Z"
    },
    "papermill": {
     "duration": 0.034622,
     "end_time": "2022-02-01T18:29:35.944538",
     "exception": false,
     "start_time": "2022-02-01T18:29:35.909916",
     "status": "completed"
    },
    "tags": []
   },
   "outputs": [],
   "source": [
    "# Define the \"classification\" layers.  These are the later layers that predict the specific classes from the features\n",
    "# learned by the feature layers.  This is the part of the model that needs to be re-trained for a new problem\n",
    "\n",
    "classification_layers = [\n",
    "    Dense(128),\n",
    "    Activation('relu'),\n",
    "    Dropout(0.5),\n",
    "    Dense(num_classes),\n",
    "    Activation('softmax')\n",
    "]"
   ]
  },
  {
   "cell_type": "code",
   "execution_count": 11,
   "id": "ce389db7",
   "metadata": {
    "execution": {
     "iopub.execute_input": "2022-02-01T18:29:35.994890Z",
     "iopub.status.busy": "2022-02-01T18:29:35.994149Z",
     "iopub.status.idle": "2022-02-01T18:29:36.125144Z",
     "shell.execute_reply": "2022-02-01T18:29:36.125963Z",
     "shell.execute_reply.started": "2022-02-01T14:50:57.935492Z"
    },
    "papermill": {
     "duration": 0.15847,
     "end_time": "2022-02-01T18:29:36.126191",
     "exception": false,
     "start_time": "2022-02-01T18:29:35.967721",
     "status": "completed"
    },
    "tags": []
   },
   "outputs": [
    {
     "name": "stderr",
     "output_type": "stream",
     "text": [
      "\n",
      "User settings:\n",
      "\n",
      "   KMP_AFFINITY=granularity=fine,noverbose,compact,1,0\n",
      "   KMP_BLOCKTIME=0\n",
      "   KMP_SETTINGS=1\n",
      "   KMP_WARNINGS=0\n",
      "\n",
      "Effective settings:\n",
      "\n",
      "   KMP_ABORT_DELAY=0\n",
      "   KMP_ADAPTIVE_LOCK_PROPS='1,1024'\n",
      "   KMP_ALIGN_ALLOC=64\n",
      "   KMP_ALL_THREADPRIVATE=128\n",
      "   KMP_ATOMIC_MODE=2\n",
      "   KMP_BLOCKTIME=0\n",
      "   KMP_CPUINFO_FILE: value is not defined\n",
      "   KMP_DETERMINISTIC_REDUCTION=false\n",
      "   KMP_DEVICE_THREAD_LIMIT=2147483647\n",
      "   KMP_DISP_NUM_BUFFERS=7\n",
      "   KMP_DUPLICATE_LIB_OK=false\n",
      "   KMP_ENABLE_TASK_THROTTLING=true\n",
      "   KMP_FORCE_REDUCTION: value is not defined\n",
      "   KMP_FOREIGN_THREADS_THREADPRIVATE=true\n",
      "   KMP_FORKJOIN_BARRIER='2,2'\n",
      "   KMP_FORKJOIN_BARRIER_PATTERN='hyper,hyper'\n",
      "   KMP_GTID_MODE=3\n",
      "   KMP_HANDLE_SIGNALS=false\n",
      "   KMP_HOT_TEAMS_MAX_LEVEL=1\n",
      "   KMP_HOT_TEAMS_MODE=0\n",
      "   KMP_INIT_AT_FORK=true\n",
      "   KMP_LIBRARY=throughput\n",
      "   KMP_LOCK_KIND=queuing\n",
      "   KMP_MALLOC_POOL_INCR=1M\n",
      "   KMP_NUM_LOCKS_IN_BLOCK=1\n",
      "   KMP_PLAIN_BARRIER='2,2'\n",
      "   KMP_PLAIN_BARRIER_PATTERN='hyper,hyper'\n",
      "   KMP_REDUCTION_BARRIER='1,1'\n",
      "   KMP_REDUCTION_BARRIER_PATTERN='hyper,hyper'\n",
      "   KMP_SCHEDULE='static,balanced;guided,iterative'\n",
      "   KMP_SETTINGS=true\n",
      "   KMP_SPIN_BACKOFF_PARAMS='4096,100'\n",
      "   KMP_STACKOFFSET=64\n",
      "   KMP_STACKPAD=0\n",
      "   KMP_STACKSIZE=8M\n",
      "   KMP_STORAGE_MAP=false\n",
      "   KMP_TASKING=2\n",
      "   KMP_TASKLOOP_MIN_TASKS=0\n",
      "   KMP_TASK_STEALING_CONSTRAINT=1\n",
      "   KMP_TEAMS_THREAD_LIMIT=4\n",
      "   KMP_TOPOLOGY_METHOD=all\n",
      "   KMP_USE_YIELD=1\n",
      "   KMP_VERSION=false\n",
      "   KMP_WARNINGS=false\n",
      "   OMP_AFFINITY_FORMAT='OMP: pid %P tid %i thread %n bound to OS proc set {%A}'\n",
      "   OMP_ALLOCATOR=omp_default_mem_alloc\n",
      "   OMP_CANCELLATION=false\n",
      "   OMP_DEFAULT_DEVICE=0\n",
      "   OMP_DISPLAY_AFFINITY=false\n",
      "   OMP_DISPLAY_ENV=false\n",
      "   OMP_DYNAMIC=false\n",
      "   OMP_MAX_ACTIVE_LEVELS=1\n",
      "   OMP_MAX_TASK_PRIORITY=0\n",
      "   OMP_NESTED: deprecated; max-active-levels-var=1\n",
      "   OMP_NUM_THREADS: value is not defined\n",
      "   OMP_PLACES: value is not defined\n",
      "   OMP_PROC_BIND='intel'\n",
      "   OMP_SCHEDULE='static'\n",
      "   OMP_STACKSIZE=8M\n",
      "   OMP_TARGET_OFFLOAD=DEFAULT\n",
      "   OMP_THREAD_LIMIT=2147483647\n",
      "   OMP_WAIT_POLICY=PASSIVE\n",
      "   KMP_AFFINITY='noverbose,warnings,respect,granularity=fine,compact,1,0'\n",
      "\n",
      "2022-02-01 18:29:36.008882: I tensorflow/core/common_runtime/process_util.cc:146] Creating new thread pool with default inter op setting: 2. Tune using inter_op_parallelism_threads for best performance.\n"
     ]
    }
   ],
   "source": [
    "# We create our model by combining the two sets of layers as follows\n",
    "model = Sequential(feature_layers + classification_layers)"
   ]
  },
  {
   "cell_type": "code",
   "execution_count": 12,
   "id": "1dc0a2c5",
   "metadata": {
    "execution": {
     "iopub.execute_input": "2022-02-01T18:29:36.180704Z",
     "iopub.status.busy": "2022-02-01T18:29:36.180011Z",
     "iopub.status.idle": "2022-02-01T18:29:36.187584Z",
     "shell.execute_reply": "2022-02-01T18:29:36.188183Z",
     "shell.execute_reply.started": "2022-02-01T14:51:04.092234Z"
    },
    "papermill": {
     "duration": 0.037594,
     "end_time": "2022-02-01T18:29:36.188379",
     "exception": false,
     "start_time": "2022-02-01T18:29:36.150785",
     "status": "completed"
    },
    "tags": []
   },
   "outputs": [
    {
     "name": "stdout",
     "output_type": "stream",
     "text": [
      "Model: \"sequential\"\n",
      "_________________________________________________________________\n",
      "Layer (type)                 Output Shape              Param #   \n",
      "=================================================================\n",
      "conv2d (Conv2D)              (None, 26, 26, 32)        320       \n",
      "_________________________________________________________________\n",
      "activation (Activation)      (None, 26, 26, 32)        0         \n",
      "_________________________________________________________________\n",
      "conv2d_1 (Conv2D)            (None, 24, 24, 32)        9248      \n",
      "_________________________________________________________________\n",
      "activation_1 (Activation)    (None, 24, 24, 32)        0         \n",
      "_________________________________________________________________\n",
      "max_pooling2d (MaxPooling2D) (None, 12, 12, 32)        0         \n",
      "_________________________________________________________________\n",
      "dropout (Dropout)            (None, 12, 12, 32)        0         \n",
      "_________________________________________________________________\n",
      "flatten (Flatten)            (None, 4608)              0         \n",
      "_________________________________________________________________\n",
      "dense (Dense)                (None, 128)               589952    \n",
      "_________________________________________________________________\n",
      "activation_2 (Activation)    (None, 128)               0         \n",
      "_________________________________________________________________\n",
      "dropout_1 (Dropout)          (None, 128)               0         \n",
      "_________________________________________________________________\n",
      "dense_1 (Dense)              (None, 5)                 645       \n",
      "_________________________________________________________________\n",
      "activation_3 (Activation)    (None, 5)                 0         \n",
      "=================================================================\n",
      "Total params: 600,165\n",
      "Trainable params: 600,165\n",
      "Non-trainable params: 0\n",
      "_________________________________________________________________\n"
     ]
    }
   ],
   "source": [
    "# Let's take a look\n",
    "model.summary()"
   ]
  },
  {
   "cell_type": "code",
   "execution_count": 13,
   "id": "56b30fe5",
   "metadata": {
    "execution": {
     "iopub.execute_input": "2022-02-01T18:29:36.241555Z",
     "iopub.status.busy": "2022-02-01T18:29:36.240829Z",
     "iopub.status.idle": "2022-02-01T18:30:52.650284Z",
     "shell.execute_reply": "2022-02-01T18:30:52.649470Z",
     "shell.execute_reply.started": "2022-02-01T14:51:11.383364Z"
    },
    "papermill": {
     "duration": 76.438002,
     "end_time": "2022-02-01T18:30:52.650430",
     "exception": false,
     "start_time": "2022-02-01T18:29:36.212428",
     "status": "completed"
    },
    "tags": []
   },
   "outputs": [
    {
     "name": "stdout",
     "output_type": "stream",
     "text": [
      "x_train shape: (29404, 28, 28, 1)\n",
      "29404 train samples\n",
      "4861 test samples\n"
     ]
    },
    {
     "name": "stderr",
     "output_type": "stream",
     "text": [
      "2022-02-01 18:29:36.474023: I tensorflow/compiler/mlir/mlir_graph_optimization_pass.cc:185] None of the MLIR Optimization Passes are enabled (registered 2)\n"
     ]
    },
    {
     "name": "stdout",
     "output_type": "stream",
     "text": [
      "Epoch 1/5\n",
      "230/230 [==============================] - 16s 67ms/step - loss: 1.6084 - accuracy: 0.2187 - val_loss: 1.5836 - val_accuracy: 0.2845\n",
      "Epoch 2/5\n",
      "230/230 [==============================] - 14s 63ms/step - loss: 1.5787 - accuracy: 0.2778 - val_loss: 1.5524 - val_accuracy: 0.4742\n",
      "Epoch 3/5\n",
      "230/230 [==============================] - 15s 65ms/step - loss: 1.5508 - accuracy: 0.3433 - val_loss: 1.5182 - val_accuracy: 0.6044\n",
      "Epoch 4/5\n",
      "230/230 [==============================] - 14s 63ms/step - loss: 1.5202 - accuracy: 0.4036 - val_loss: 1.4800 - val_accuracy: 0.6766\n",
      "Epoch 5/5\n",
      "230/230 [==============================] - 15s 66ms/step - loss: 1.4817 - accuracy: 0.4692 - val_loss: 1.4364 - val_accuracy: 0.7208\n",
      "Training time: 0:01:15.462185\n",
      "Test score: 1.43644118309021\n",
      "Test accuracy: 0.7208393216133118\n"
     ]
    }
   ],
   "source": [
    "# Now, let's train our model on the digits 5,6,7,8,9\n",
    "\n",
    "train_model(model,\n",
    "            (x_train_gte5, y_train_gte5),\n",
    "            (x_test_gte5, y_test_gte5), num_classes)"
   ]
  },
  {
   "cell_type": "markdown",
   "id": "fc5424c9",
   "metadata": {
    "papermill": {
     "duration": 0.371985,
     "end_time": "2022-02-01T18:30:53.400917",
     "exception": false,
     "start_time": "2022-02-01T18:30:53.028932",
     "status": "completed"
    },
    "tags": []
   },
   "source": [
    "### Freezing Layers\n",
    "Keras allows layers to be \"frozen\" during the training process.  That is, some layers would have their weights updated during the training process, while others would not.  This is a core part of transfer learning, the ability to train just the last one or several layers.\n",
    "\n",
    "Note also, that a lot of the training time is spent \"back-propagating\" the gradients back to the first layer.  Therefore, if we only need to compute the gradients back a small number of layers, the training time is much quicker per iteration.  This is in addition to the savings gained by being able to train on a smaller data set."
   ]
  },
  {
   "cell_type": "code",
   "execution_count": 14,
   "id": "b0e19a24",
   "metadata": {
    "execution": {
     "iopub.execute_input": "2022-02-01T18:30:54.161684Z",
     "iopub.status.busy": "2022-02-01T18:30:54.161048Z",
     "iopub.status.idle": "2022-02-01T18:30:54.162736Z",
     "shell.execute_reply": "2022-02-01T18:30:54.163262Z",
     "shell.execute_reply.started": "2022-02-01T14:52:09.642471Z"
    },
    "papermill": {
     "duration": 0.382236,
     "end_time": "2022-02-01T18:30:54.163433",
     "exception": false,
     "start_time": "2022-02-01T18:30:53.781197",
     "status": "completed"
    },
    "tags": []
   },
   "outputs": [],
   "source": [
    "# Freeze only the feature layers\n",
    "for l in feature_layers:\n",
    "    l.trainable = False"
   ]
  },
  {
   "cell_type": "markdown",
   "id": "fda474fa",
   "metadata": {
    "papermill": {
     "duration": 0.377318,
     "end_time": "2022-02-01T18:30:54.914627",
     "exception": false,
     "start_time": "2022-02-01T18:30:54.537309",
     "status": "completed"
    },
    "tags": []
   },
   "source": [
    "Observe below the differences between the number of *total params*, *trainable params*, and *non-trainable params*."
   ]
  },
  {
   "cell_type": "code",
   "execution_count": 15,
   "id": "0ad7bfdb",
   "metadata": {
    "execution": {
     "iopub.execute_input": "2022-02-01T18:30:55.668910Z",
     "iopub.status.busy": "2022-02-01T18:30:55.668277Z",
     "iopub.status.idle": "2022-02-01T18:30:55.677396Z",
     "shell.execute_reply": "2022-02-01T18:30:55.677910Z",
     "shell.execute_reply.started": "2022-02-01T14:52:11.478810Z"
    },
    "papermill": {
     "duration": 0.390225,
     "end_time": "2022-02-01T18:30:55.678089",
     "exception": false,
     "start_time": "2022-02-01T18:30:55.287864",
     "status": "completed"
    },
    "tags": []
   },
   "outputs": [
    {
     "name": "stdout",
     "output_type": "stream",
     "text": [
      "Model: \"sequential\"\n",
      "_________________________________________________________________\n",
      "Layer (type)                 Output Shape              Param #   \n",
      "=================================================================\n",
      "conv2d (Conv2D)              (None, 26, 26, 32)        320       \n",
      "_________________________________________________________________\n",
      "activation (Activation)      (None, 26, 26, 32)        0         \n",
      "_________________________________________________________________\n",
      "conv2d_1 (Conv2D)            (None, 24, 24, 32)        9248      \n",
      "_________________________________________________________________\n",
      "activation_1 (Activation)    (None, 24, 24, 32)        0         \n",
      "_________________________________________________________________\n",
      "max_pooling2d (MaxPooling2D) (None, 12, 12, 32)        0         \n",
      "_________________________________________________________________\n",
      "dropout (Dropout)            (None, 12, 12, 32)        0         \n",
      "_________________________________________________________________\n",
      "flatten (Flatten)            (None, 4608)              0         \n",
      "_________________________________________________________________\n",
      "dense (Dense)                (None, 128)               589952    \n",
      "_________________________________________________________________\n",
      "activation_2 (Activation)    (None, 128)               0         \n",
      "_________________________________________________________________\n",
      "dropout_1 (Dropout)          (None, 128)               0         \n",
      "_________________________________________________________________\n",
      "dense_1 (Dense)              (None, 5)                 645       \n",
      "_________________________________________________________________\n",
      "activation_3 (Activation)    (None, 5)                 0         \n",
      "=================================================================\n",
      "Total params: 600,165\n",
      "Trainable params: 590,597\n",
      "Non-trainable params: 9,568\n",
      "_________________________________________________________________\n"
     ]
    }
   ],
   "source": [
    "model.summary()"
   ]
  },
  {
   "cell_type": "code",
   "execution_count": 16,
   "id": "af89c889",
   "metadata": {
    "execution": {
     "iopub.execute_input": "2022-02-01T18:30:56.468001Z",
     "iopub.status.busy": "2022-02-01T18:30:56.465206Z",
     "iopub.status.idle": "2022-02-01T18:31:30.749146Z",
     "shell.execute_reply": "2022-02-01T18:31:30.749676Z",
     "shell.execute_reply.started": "2022-02-01T14:52:18.519997Z"
    },
    "papermill": {
     "duration": 34.665386,
     "end_time": "2022-02-01T18:31:30.749919",
     "exception": false,
     "start_time": "2022-02-01T18:30:56.084533",
     "status": "completed"
    },
    "tags": []
   },
   "outputs": [
    {
     "name": "stdout",
     "output_type": "stream",
     "text": [
      "x_train shape: (30596, 28, 28, 1)\n",
      "30596 train samples\n",
      "5139 test samples\n",
      "Epoch 1/5\n",
      "240/240 [==============================] - 7s 27ms/step - loss: 1.5822 - accuracy: 0.2665 - val_loss: 1.5338 - val_accuracy: 0.3670\n",
      "Epoch 2/5\n",
      "240/240 [==============================] - 6s 27ms/step - loss: 1.5215 - accuracy: 0.3626 - val_loss: 1.4705 - val_accuracy: 0.5007\n",
      "Epoch 3/5\n",
      "240/240 [==============================] - 6s 26ms/step - loss: 1.4638 - accuracy: 0.4443 - val_loss: 1.4095 - val_accuracy: 0.6369\n",
      "Epoch 4/5\n",
      "240/240 [==============================] - 7s 29ms/step - loss: 1.4126 - accuracy: 0.5168 - val_loss: 1.3521 - val_accuracy: 0.7326\n",
      "Epoch 5/5\n",
      "240/240 [==============================] - 7s 28ms/step - loss: 1.3583 - accuracy: 0.5834 - val_loss: 1.2958 - val_accuracy: 0.7926\n",
      "Training time: 0:00:33.319777\n",
      "Test score: 1.2958216667175293\n",
      "Test accuracy: 0.7925666570663452\n"
     ]
    }
   ],
   "source": [
    "train_model(model,\n",
    "            (x_train_lt5, y_train_lt5),\n",
    "            (x_test_lt5, y_test_lt5), num_classes)"
   ]
  },
  {
   "cell_type": "markdown",
   "id": "a72e5a6d",
   "metadata": {
    "papermill": {
     "duration": 0.512574,
     "end_time": "2022-02-01T18:31:31.764267",
     "exception": false,
     "start_time": "2022-02-01T18:31:31.251693",
     "status": "completed"
    },
    "tags": []
   },
   "source": [
    "Note that after a single epoch, we are already achieving results on classifying 0-4 that are comparable to those achieved on 5-9 after 5 full epochs.  This despite the fact the we are only \"fine-tuning\" the last layer of the network, and all the early layers have never seen what the digits 0-4 look like.\n",
    "\n",
    "Also, note that even though nearly all (590K/600K) of the *parameters* were trainable, the training time per epoch was still much reduced.  This is because the unfrozen part of the network was very shallow, making backpropagation faster. "
   ]
  },
  {
   "cell_type": "markdown",
   "id": "81f06814",
   "metadata": {
    "papermill": {
     "duration": 0.505406,
     "end_time": "2022-02-01T18:31:32.778527",
     "exception": false,
     "start_time": "2022-02-01T18:31:32.273121",
     "status": "completed"
    },
    "tags": []
   },
   "source": [
    "## Exercise\n",
    "- Now we will write code to reverse this training process.  That is, train on the digits 0-4, then finetune only the last layers on the digits 5-9."
   ]
  },
  {
   "cell_type": "code",
   "execution_count": 17,
   "id": "cd8f0ccc",
   "metadata": {
    "execution": {
     "iopub.execute_input": "2022-02-01T18:31:33.799271Z",
     "iopub.status.busy": "2022-02-01T18:31:33.798590Z",
     "iopub.status.idle": "2022-02-01T18:31:33.865598Z",
     "shell.execute_reply": "2022-02-01T18:31:33.864828Z",
     "shell.execute_reply.started": "2022-02-01T14:52:36.761477Z"
    },
    "papermill": {
     "duration": 0.579916,
     "end_time": "2022-02-01T18:31:33.865782",
     "exception": false,
     "start_time": "2022-02-01T18:31:33.285866",
     "status": "completed"
    },
    "tags": []
   },
   "outputs": [
    {
     "name": "stdout",
     "output_type": "stream",
     "text": [
      "Model: \"sequential_1\"\n",
      "_________________________________________________________________\n",
      "Layer (type)                 Output Shape              Param #   \n",
      "=================================================================\n",
      "conv2d_2 (Conv2D)            (None, 26, 26, 32)        320       \n",
      "_________________________________________________________________\n",
      "activation_4 (Activation)    (None, 26, 26, 32)        0         \n",
      "_________________________________________________________________\n",
      "conv2d_3 (Conv2D)            (None, 24, 24, 32)        9248      \n",
      "_________________________________________________________________\n",
      "activation_5 (Activation)    (None, 24, 24, 32)        0         \n",
      "_________________________________________________________________\n",
      "max_pooling2d_1 (MaxPooling2 (None, 12, 12, 32)        0         \n",
      "_________________________________________________________________\n",
      "dropout_2 (Dropout)          (None, 12, 12, 32)        0         \n",
      "_________________________________________________________________\n",
      "flatten_1 (Flatten)          (None, 4608)              0         \n",
      "_________________________________________________________________\n",
      "dense_2 (Dense)              (None, 128)               589952    \n",
      "_________________________________________________________________\n",
      "activation_6 (Activation)    (None, 128)               0         \n",
      "_________________________________________________________________\n",
      "dropout_3 (Dropout)          (None, 128)               0         \n",
      "_________________________________________________________________\n",
      "dense_3 (Dense)              (None, 5)                 645       \n",
      "_________________________________________________________________\n",
      "activation_7 (Activation)    (None, 5)                 0         \n",
      "=================================================================\n",
      "Total params: 600,165\n",
      "Trainable params: 600,165\n",
      "Non-trainable params: 0\n",
      "_________________________________________________________________\n"
     ]
    }
   ],
   "source": [
    "# Create layers and define the model as above\n",
    "feature_layers2 = [\n",
    "    Conv2D(filters, kernel_size,\n",
    "           padding='valid',\n",
    "           input_shape=input_shape),\n",
    "    Activation('relu'),\n",
    "    Conv2D(filters, kernel_size),\n",
    "    Activation('relu'),\n",
    "    MaxPooling2D(pool_size=pool_size),\n",
    "    Dropout(0.25),\n",
    "    Flatten(),\n",
    "]\n",
    "\n",
    "classification_layers2 = [\n",
    "    Dense(128),\n",
    "    Activation('relu'),\n",
    "    Dropout(0.5),\n",
    "    Dense(num_classes),\n",
    "    Activation('softmax')\n",
    "]\n",
    "model2 = Sequential(feature_layers2 + classification_layers2)\n",
    "model2.summary()"
   ]
  },
  {
   "cell_type": "code",
   "execution_count": 18,
   "id": "53814345",
   "metadata": {
    "execution": {
     "iopub.execute_input": "2022-02-01T18:31:34.885292Z",
     "iopub.status.busy": "2022-02-01T18:31:34.883952Z",
     "iopub.status.idle": "2022-02-01T18:32:55.198299Z",
     "shell.execute_reply": "2022-02-01T18:32:55.197593Z",
     "shell.execute_reply.started": "2022-02-01T14:52:42.284723Z"
    },
    "papermill": {
     "duration": 80.824527,
     "end_time": "2022-02-01T18:32:55.198452",
     "exception": false,
     "start_time": "2022-02-01T18:31:34.373925",
     "status": "completed"
    },
    "tags": []
   },
   "outputs": [
    {
     "name": "stdout",
     "output_type": "stream",
     "text": [
      "x_train shape: (30596, 28, 28, 1)\n",
      "30596 train samples\n",
      "5139 test samples\n",
      "Epoch 1/5\n",
      "240/240 [==============================] - 16s 66ms/step - loss: 1.5970 - accuracy: 0.2465 - val_loss: 1.5809 - val_accuracy: 0.3682\n",
      "Epoch 2/5\n",
      "240/240 [==============================] - 16s 65ms/step - loss: 1.5744 - accuracy: 0.3098 - val_loss: 1.5566 - val_accuracy: 0.4637\n",
      "Epoch 3/5\n",
      "240/240 [==============================] - 16s 65ms/step - loss: 1.5508 - accuracy: 0.3733 - val_loss: 1.5288 - val_accuracy: 0.5666\n",
      "Epoch 4/5\n",
      "240/240 [==============================] - 16s 66ms/step - loss: 1.5235 - accuracy: 0.4410 - val_loss: 1.4955 - val_accuracy: 0.6918\n",
      "Epoch 5/5\n",
      "240/240 [==============================] - 16s 66ms/step - loss: 1.4898 - accuracy: 0.5083 - val_loss: 1.4552 - val_accuracy: 0.7883\n",
      "Training time: 0:01:19.285797\n",
      "Test score: 1.4552032947540283\n",
      "Test accuracy: 0.7882856726646423\n"
     ]
    }
   ],
   "source": [
    "# Now, let's train our model on the digits 0,1,2,3,4\n",
    "train_model(model2,\n",
    "            (x_train_lt5, y_train_lt5),\n",
    "            (x_test_lt5, y_test_lt5), num_classes)"
   ]
  },
  {
   "cell_type": "code",
   "execution_count": 19,
   "id": "d3999bec",
   "metadata": {
    "execution": {
     "iopub.execute_input": "2022-02-01T18:32:57.071815Z",
     "iopub.status.busy": "2022-02-01T18:32:57.071170Z",
     "iopub.status.idle": "2022-02-01T18:32:57.074925Z",
     "shell.execute_reply": "2022-02-01T18:32:57.075495Z",
     "shell.execute_reply.started": "2022-02-01T14:52:54.156433Z"
    },
    "papermill": {
     "duration": 0.955534,
     "end_time": "2022-02-01T18:32:57.075700",
     "exception": false,
     "start_time": "2022-02-01T18:32:56.120166",
     "status": "completed"
    },
    "tags": []
   },
   "outputs": [],
   "source": [
    "#Freeze layers\n",
    "for l in feature_layers2:\n",
    "    l.trainable = False"
   ]
  },
  {
   "cell_type": "code",
   "execution_count": 20,
   "id": "afb3abf3",
   "metadata": {
    "execution": {
     "iopub.execute_input": "2022-02-01T18:32:58.946083Z",
     "iopub.status.busy": "2022-02-01T18:32:58.943152Z",
     "iopub.status.idle": "2022-02-01T18:32:58.952493Z",
     "shell.execute_reply": "2022-02-01T18:32:58.951859Z",
     "shell.execute_reply.started": "2022-02-01T14:52:56.957050Z"
    },
    "papermill": {
     "duration": 0.890399,
     "end_time": "2022-02-01T18:32:58.952643",
     "exception": false,
     "start_time": "2022-02-01T18:32:58.062244",
     "status": "completed"
    },
    "tags": []
   },
   "outputs": [
    {
     "name": "stdout",
     "output_type": "stream",
     "text": [
      "Model: \"sequential_1\"\n",
      "_________________________________________________________________\n",
      "Layer (type)                 Output Shape              Param #   \n",
      "=================================================================\n",
      "conv2d_2 (Conv2D)            (None, 26, 26, 32)        320       \n",
      "_________________________________________________________________\n",
      "activation_4 (Activation)    (None, 26, 26, 32)        0         \n",
      "_________________________________________________________________\n",
      "conv2d_3 (Conv2D)            (None, 24, 24, 32)        9248      \n",
      "_________________________________________________________________\n",
      "activation_5 (Activation)    (None, 24, 24, 32)        0         \n",
      "_________________________________________________________________\n",
      "max_pooling2d_1 (MaxPooling2 (None, 12, 12, 32)        0         \n",
      "_________________________________________________________________\n",
      "dropout_2 (Dropout)          (None, 12, 12, 32)        0         \n",
      "_________________________________________________________________\n",
      "flatten_1 (Flatten)          (None, 4608)              0         \n",
      "_________________________________________________________________\n",
      "dense_2 (Dense)              (None, 128)               589952    \n",
      "_________________________________________________________________\n",
      "activation_6 (Activation)    (None, 128)               0         \n",
      "_________________________________________________________________\n",
      "dropout_3 (Dropout)          (None, 128)               0         \n",
      "_________________________________________________________________\n",
      "dense_3 (Dense)              (None, 5)                 645       \n",
      "_________________________________________________________________\n",
      "activation_7 (Activation)    (None, 5)                 0         \n",
      "=================================================================\n",
      "Total params: 600,165\n",
      "Trainable params: 590,597\n",
      "Non-trainable params: 9,568\n",
      "_________________________________________________________________\n"
     ]
    }
   ],
   "source": [
    "model2.summary()"
   ]
  },
  {
   "cell_type": "code",
   "execution_count": 21,
   "id": "d677dcba",
   "metadata": {
    "execution": {
     "iopub.execute_input": "2022-02-01T18:33:00.706747Z",
     "iopub.status.busy": "2022-02-01T18:33:00.704981Z",
     "iopub.status.idle": "2022-02-01T18:33:33.965512Z",
     "shell.execute_reply": "2022-02-01T18:33:33.964650Z",
     "shell.execute_reply.started": "2022-02-01T14:53:05.557526Z"
    },
    "papermill": {
     "duration": 34.1405,
     "end_time": "2022-02-01T18:33:33.965680",
     "exception": false,
     "start_time": "2022-02-01T18:32:59.825180",
     "status": "completed"
    },
    "tags": []
   },
   "outputs": [
    {
     "name": "stdout",
     "output_type": "stream",
     "text": [
      "x_train shape: (29404, 28, 28, 1)\n",
      "29404 train samples\n",
      "4861 test samples\n",
      "Epoch 1/5\n",
      "230/230 [==============================] - 7s 27ms/step - loss: 1.5870 - accuracy: 0.2691 - val_loss: 1.5703 - val_accuracy: 0.3839\n",
      "Epoch 2/5\n",
      "230/230 [==============================] - 6s 27ms/step - loss: 1.5696 - accuracy: 0.3010 - val_loss: 1.5507 - val_accuracy: 0.4318\n",
      "Epoch 3/5\n",
      "230/230 [==============================] - 6s 26ms/step - loss: 1.5501 - accuracy: 0.3422 - val_loss: 1.5307 - val_accuracy: 0.4764\n",
      "Epoch 4/5\n",
      "230/230 [==============================] - 7s 28ms/step - loss: 1.5306 - accuracy: 0.3833 - val_loss: 1.5101 - val_accuracy: 0.5223\n",
      "Epoch 5/5\n",
      "230/230 [==============================] - 7s 29ms/step - loss: 1.5115 - accuracy: 0.4192 - val_loss: 1.4889 - val_accuracy: 0.5721\n",
      "Training time: 0:00:32.347895\n",
      "Test score: 1.4889453649520874\n",
      "Test accuracy: 0.5721045136451721\n"
     ]
    }
   ],
   "source": [
    "train_model(model2,\n",
    "            (x_train_gte5, y_train_gte5),\n",
    "            (x_test_gte5, y_test_gte5), num_classes)"
   ]
  },
  {
   "cell_type": "markdown",
   "id": "be548d11",
   "metadata": {
    "papermill": {
     "duration": 0.999016,
     "end_time": "2022-02-01T18:33:35.960917",
     "exception": false,
     "start_time": "2022-02-01T18:33:34.961901",
     "status": "completed"
    },
    "tags": []
   },
   "source": [
    "---\n",
    "### Machine Learning Foundation (C) 2020 IBM Corporation"
   ]
  }
 ],
 "metadata": {
  "kernelspec": {
   "display_name": "Python 3",
   "language": "python",
   "name": "python3"
  },
  "language_info": {
   "codemirror_mode": {
    "name": "ipython",
    "version": 3
   },
   "file_extension": ".py",
   "mimetype": "text/x-python",
   "name": "python",
   "nbconvert_exporter": "python",
   "pygments_lexer": "ipython3",
   "version": "3.7.12"
  },
  "papermill": {
   "default_parameters": {},
   "duration": 262.109943,
   "end_time": "2022-02-01T18:33:40.049667",
   "environment_variables": {},
   "exception": null,
   "input_path": "__notebook__.ipynb",
   "output_path": "__notebook__.ipynb",
   "parameters": {},
   "start_time": "2022-02-01T18:29:17.939724",
   "version": "2.3.3"
  }
 },
 "nbformat": 4,
 "nbformat_minor": 5
}
